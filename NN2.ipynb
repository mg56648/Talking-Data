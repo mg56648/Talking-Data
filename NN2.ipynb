{
 "cells": [
  {
   "cell_type": "code",
   "execution_count": 74,
   "metadata": {},
   "outputs": [],
   "source": [
    "import numpy as np\n",
    "import pandas as pd\n",
    "import seaborn as sns\n",
    "from sklearn.model_selection import train_test_split\n",
    "from keras.models import Sequential\n",
    "from keras.layers import Activation, Dense, Dropout\n",
    "from keras import optimizers\n",
    "import datetime as dt"
   ]
  },
  {
   "cell_type": "code",
   "execution_count": 76,
   "metadata": {},
   "outputs": [],
   "source": [
    "#df_train = pd.read_csv('train_sample.csv', header = 0)\n",
    "df_train = pd.read_csv('train_extra.csv', header = 0)"
   ]
  },
  {
   "cell_type": "code",
   "execution_count": 77,
   "metadata": {},
   "outputs": [
    {
     "name": "stderr",
     "output_type": "stream",
     "text": [
      "C:\\Users\\Bailey\\Anaconda3\\lib\\site-packages\\ipykernel_launcher.py:4: SettingWithCopyWarning: \n",
      "A value is trying to be set on a copy of a slice from a DataFrame\n",
      "\n",
      "See the caveats in the documentation: http://pandas.pydata.org/pandas-docs/stable/indexing.html#indexing-view-versus-copy\n",
      "  after removing the cwd from sys.path.\n",
      "C:\\Users\\Bailey\\Anaconda3\\lib\\site-packages\\ipykernel_launcher.py:5: SettingWithCopyWarning: \n",
      "A value is trying to be set on a copy of a slice from a DataFrame\n",
      "\n",
      "See the caveats in the documentation: http://pandas.pydata.org/pandas-docs/stable/indexing.html#indexing-view-versus-copy\n",
      "  \"\"\"\n",
      "C:\\Users\\Bailey\\Anaconda3\\lib\\site-packages\\ipykernel_launcher.py:6: SettingWithCopyWarning: \n",
      "A value is trying to be set on a copy of a slice from a DataFrame\n",
      "\n",
      "See the caveats in the documentation: http://pandas.pydata.org/pandas-docs/stable/indexing.html#indexing-view-versus-copy\n",
      "  \n"
     ]
    }
   ],
   "source": [
    "df_train.click_time = pd.to_datetime(df_train.click_time)\n",
    "df_train[\"hour\"] = df_train.click_time.dt.hour\n",
    "\n",
    "df_train[\"hour\"][df_train.hour < 8] = 1\n",
    "df_train[\"hour\"][(df_train.hour >= 8) & (df_train.hour <= 16)] = 2\n",
    "df_train[\"hour\"][(df_train.hour > 16)] = 3"
   ]
  },
  {
   "cell_type": "code",
   "execution_count": 78,
   "metadata": {},
   "outputs": [],
   "source": [
    "df_train = df_train.drop(['ip','attributed_time','click_time'],axis=1)"
   ]
  },
  {
   "cell_type": "code",
   "execution_count": 79,
   "metadata": {},
   "outputs": [
    {
     "data": {
      "image/png": "[encoded data removed]",
      "text/plain": [
       "<matplotlib.figure.Figure at 0x2146384d898>"
      ]
     },
     "metadata": {},
     "output_type": "display_data"
    }
   ],
   "source": [
    "#app to categories\n",
    "\n",
    "nrows = len(df_train)\n",
    "\n",
    "df_train.app.plot.hist()\n",
    "app_count = pd.DataFrame(df_train.app.value_counts())\n",
    "\n",
    "app_cutoff = 0\n",
    "for i in range(len(app_count)):\n",
    "    s = sum(app_count[\"app\"][0:i])\n",
    "    if (s/nrows)>0.95 :\n",
    "        app_cutoff = i\n",
    "        break\n",
    "app_cutoff\n",
    "\n",
    "app_list = list(app_count[\"app\"][0:app_cutoff].index.values)\n",
    "df_train[\"app\"][df_train.app.isin(app_list) == False] = 1234"
   ]
  },
  {
   "cell_type": "code",
   "execution_count": 64,
   "metadata": {},
   "outputs": [
    {
     "data": {
      "image/png": "[encoded data removed]",
      "text/plain": [
       "<matplotlib.figure.Figure at 0x2140222e1d0>"
      ]
     },
     "metadata": {},
     "output_type": "display_data"
    }
   ],
   "source": [
    "#Device to categories\n",
    "df_train.device.plot.hist()\n",
    "device_count = pd.DataFrame(df_train.device.value_counts())\n",
    "\n",
    "device_cutoff = 0\n",
    "for i in range(len(device_count)):\n",
    "    s = sum(device_count[\"device\"][0:i])\n",
    "    if (s/nrows)>0.95 :\n",
    "        device_cutoff = i\n",
    "        break\n",
    "device_cutoff\n",
    "device_list = list(device_count[\"device\"][0:device_cutoff].index.values)\n",
    "df_train[\"device\"][df_train.device.isin(device_list) == False] = 1234"
   ]
  },
  {
   "cell_type": "code",
   "execution_count": 80,
   "metadata": {},
   "outputs": [
    {
     "data": {
      "image/png": "[encoded data removed]",
      "text/plain": [
       "<matplotlib.figure.Figure at 0x214026f1470>"
      ]
     },
     "metadata": {},
     "output_type": "display_data"
    }
   ],
   "source": [
    "#os to categories\n",
    "df_train.os.plot.hist()\n",
    "os_count = pd.DataFrame(df_train.os.value_counts())\n",
    "\n",
    "os_cutoff = 0\n",
    "for i in range(len(os_count)):\n",
    "    s = sum(os_count[\"os\"][0:i])\n",
    "    if (s/nrows)>0.95 :\n",
    "        os_cutoff = i\n",
    "        break\n",
    "os_list = list(os_count[\"os\"][0:os_cutoff].index.values)\n",
    "df_train[\"os\"][df_train.os.isin(os_list) == False] = 1234"
   ]
  },
  {
   "cell_type": "code",
   "execution_count": 81,
   "metadata": {},
   "outputs": [
    {
     "data": {
      "image/png": "[encoded data removed]",
      "text/plain": [
       "<matplotlib.figure.Figure at 0x21412e4eb00>"
      ]
     },
     "metadata": {},
     "output_type": "display_data"
    }
   ],
   "source": [
    "#channel to categories\n",
    "df_train.channel.plot.hist()\n",
    "df_train_true = df_train[df_train.is_attributed == 1]\n",
    "nrows_true = len(df_train_true)\n",
    "channel_count = pd.DataFrame(df_train_true.channel.value_counts())\n",
    "\n",
    "channel_cutoff = 0\n",
    "for i in range(len(channel_count)):\n",
    "    s = sum(channel_count[\"channel\"][0:i])\n",
    "    if (s/nrows_true)>0.95 :\n",
    "        channel_cutoff = i\n",
    "        break\n",
    "channel_list = list(channel_count[\"channel\"][0:channel_cutoff].index.values)\n",
    "df_train[\"channel\"][df_train.channel.isin(channel_list) == False] = 1234"
   ]
  },
  {
   "cell_type": "code",
   "execution_count": 82,
   "metadata": {},
   "outputs": [],
   "source": [
    "df_test = pd.read_csv(\"test.csv\")"
   ]
  },
  {
   "cell_type": "code",
   "execution_count": 83,
   "metadata": {},
   "outputs": [
    {
     "name": "stderr",
     "output_type": "stream",
     "text": [
      "C:\\Users\\Bailey\\Anaconda3\\lib\\site-packages\\ipykernel_launcher.py:4: SettingWithCopyWarning: \n",
      "A value is trying to be set on a copy of a slice from a DataFrame\n",
      "\n",
      "See the caveats in the documentation: http://pandas.pydata.org/pandas-docs/stable/indexing.html#indexing-view-versus-copy\n",
      "  after removing the cwd from sys.path.\n",
      "C:\\Users\\Bailey\\Anaconda3\\lib\\site-packages\\ipykernel_launcher.py:5: SettingWithCopyWarning: \n",
      "A value is trying to be set on a copy of a slice from a DataFrame\n",
      "\n",
      "See the caveats in the documentation: http://pandas.pydata.org/pandas-docs/stable/indexing.html#indexing-view-versus-copy\n",
      "  \"\"\"\n",
      "C:\\Users\\Bailey\\Anaconda3\\lib\\site-packages\\ipykernel_launcher.py:6: SettingWithCopyWarning: \n",
      "A value is trying to be set on a copy of a slice from a DataFrame\n",
      "\n",
      "See the caveats in the documentation: http://pandas.pydata.org/pandas-docs/stable/indexing.html#indexing-view-versus-copy\n",
      "  \n"
     ]
    }
   ],
   "source": [
    "df_test.click_time = pd.to_datetime(df_test.click_time)\n",
    "df_test[\"hour\"]=  df_test.click_time.dt.hour\n",
    "\n",
    "df_test[\"hour\"][df_test.hour < 8] = 1\n",
    "df_test[\"hour\"][(df_test.hour >= 8) & (df_test.hour < 16)] = 2\n",
    "df_test[\"hour\"][df_test.hour >= 16] = 3\n",
    "\n",
    "df_test.drop([\"click_time\", \"ip\"],1, inplace = True)\n",
    "\n",
    "df_test[\"app\"][df_test.app.isin(app_list) == False] = 1234\n",
    "df_test[\"device\"][df_test.device.isin(device_list) == False] = 1234\n",
    "df_test[\"os\"][df_test.os.isin(os_list) == False] = 1234\n",
    "df_test[\"channel\"][df_test.channel.isin(channel_list) == False] = 1234"
   ]
  },
  {
   "cell_type": "code",
   "execution_count": 84,
   "metadata": {},
   "outputs": [],
   "source": [
    "df_test= df_test.drop(['click_id'],axis=1)"
   ]
  },
  {
   "cell_type": "code",
   "execution_count": 85,
   "metadata": {},
   "outputs": [],
   "source": [
    "train_df, test_df = train_test_split(df_train, test_size = 0.25, random_state = 1984)"
   ]
  },
  {
   "cell_type": "code",
   "execution_count": 86,
   "metadata": {},
   "outputs": [
    {
     "data": {
      "text/plain": [
       "0.1712"
      ]
     },
     "execution_count": 86,
     "metadata": {},
     "output_type": "execute_result"
    }
   ],
   "source": [
    "train_df.is_attributed.sum()/train_df.shape[0]\n",
    "test_df.is_attributed.sum()/test_df.shape[0]\n"
   ]
  },
  {
   "cell_type": "code",
   "execution_count": 87,
   "metadata": {},
   "outputs": [],
   "source": [
    "train_y = train_df.is_attributed\n",
    "test_y = train_df.is_attributed\n",
    "\n",
    "train_x = train_df.drop(['is_attributed'], axis = 1)\n",
    "test_x = test_df.drop(['is_attributed'], axis = 1)\n",
    "\n",
    "train_x = np.array(train_x)\n",
    "test_x = np.array(test_x)\n",
    "\n",
    "train_y = np.array(train_y)\n",
    "test_y = np.array(test_y)"
   ]
  },
  {
   "cell_type": "code",
   "execution_count": 88,
   "metadata": {
    "scrolled": true
   },
   "outputs": [
    {
     "name": "stdout",
     "output_type": "stream",
     "text": [
      "Train on 72000 samples, validate on 18000 samples\n",
      "Epoch 1/3\n",
      "72000/72000 [==============================] - 7s 98us/step - loss: 0.4147 - val_loss: 0.3281\n",
      "Epoch 2/3\n",
      "72000/72000 [==============================] - 6s 77us/step - loss: 0.3517 - val_loss: 0.3188\n",
      "Epoch 3/3\n",
      "72000/72000 [==============================] - 5s 67us/step - loss: 0.3291 - val_loss: 0.3048\n"
     ]
    }
   ],
   "source": [
    "adam = optimizers.adam(lr = 0.005, decay = 0.0000001)\n",
    "\n",
    "model = Sequential()\n",
    "model.add(Dense(48, input_dim=train_x.shape[1],kernel_initializer='normal',activation='relu'))\n",
    "model.add(Dropout(0.2))\n",
    "model.add(Dense(24,activation = \"tanh\"))\n",
    "model.add(Dropout(0.3))\n",
    "model.add(Dense(1))\n",
    "model.add(Activation(\"sigmoid\"))\n",
    "model.compile(loss=\"binary_crossentropy\",optimizer='adam')\n",
    "\n",
    "history = model.fit(train_x,train_y, validation_split=0.2, epochs=3, batch_size=64)\n"
   ]
  },
  {
   "cell_type": "code",
   "execution_count": 89,
   "metadata": {},
   "outputs": [],
   "source": [
    "predictions_NN_prob = model.predict(df_test)\n",
    "predictions_NN_prob = predictions_NN_prob[:,0]"
   ]
  },
  {
   "cell_type": "code",
   "execution_count": 90,
   "metadata": {},
   "outputs": [],
   "source": [
    "df_test['is_attributed'] = predictions_NN_prob\n",
    "df1 = df_test\n",
    "df1 = df1.drop(['app','device','os','channel','hour'],axis=1)\n",
    "df1['click_id'] = df1.index\n",
    "df1 = df1[['click_id','is_attributed']]"
   ]
  },
  {
   "cell_type": "code",
   "execution_count": 91,
   "metadata": {},
   "outputs": [],
   "source": [
    "df1.to_csv(\"NNprediction_3.csv\", index = False)"
   ]
  },
  {
   "cell_type": "code",
   "execution_count": null,
   "metadata": {},
   "outputs": [],
   "source": []
  }
 ],
 "metadata": {
  "kernelspec": {
   "display_name": "Python 3",
   "language": "python",
   "name": "python3"
  },
  "language_info": {
   "codemirror_mode": {
    "name": "ipython",
    "version": 3
   },
   "file_extension": ".py",
   "mimetype": "text/x-python",
   "name": "python",
   "nbconvert_exporter": "python",
   "pygments_lexer": "ipython3",
   "version": "3.6.4"
  }
 },
 "nbformat": 4,
 "nbformat_minor": 2
}
