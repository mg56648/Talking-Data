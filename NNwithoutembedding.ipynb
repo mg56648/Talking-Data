{
 "cells": [
  {
   "cell_type": "code",
   "execution_count": 1,
   "metadata": {},
   "outputs": [
    {
     "name": "stderr",
     "output_type": "stream",
     "text": [
      "C:\\Users\\Bailey\\Anaconda3\\lib\\site-packages\\h5py\\__init__.py:36: FutureWarning: Conversion of the second argument of issubdtype from `float` to `np.floating` is deprecated. In future, it will be treated as `np.float64 == np.dtype(float).type`.\n",
      "  from ._conv import register_converters as _register_converters\n",
      "Using TensorFlow backend.\n"
     ]
    }
   ],
   "source": [
    "import gc\n",
    "import pandas as pd\n",
    "import numpy as np\n",
    "import datetime as dt\n",
    "from sklearn.metrics import roc_auc_score\n",
    "from sklearn.preprocessing import LabelEncoder\n",
    "from sklearn.model_selection import train_test_split\n",
    "from keras.layers import Input, Dropout, Dense, concatenate, GRU, Embedding, Flatten, Activation\n",
    "from keras.optimizers import Adam\n",
    "from keras.models import Model\n",
    "from keras import backend as K\n",
    "from keras import optimizers\n",
    "from keras import Sequential"
   ]
  },
  {
   "cell_type": "code",
   "execution_count": 2,
   "metadata": {},
   "outputs": [
    {
     "name": "stdout",
     "output_type": "stream",
     "text": [
      "load done\n"
     ]
    }
   ],
   "source": [
    "train_df = pd.read_csv('train_extra.csv')\n",
    "test_df = pd.read_csv('test.csv')\n",
    "print(\"load done\")"
   ]
  },
  {
   "cell_type": "code",
   "execution_count": 3,
   "metadata": {},
   "outputs": [],
   "source": [
    "def remove_unknown_tag(col, train_df = train_df, test_df = test_df):\n",
    "    test_df.loc[~test_df[col].isin(train_df[col]),col] = 9999999"
   ]
  },
  {
   "cell_type": "code",
   "execution_count": 4,
   "metadata": {},
   "outputs": [],
   "source": [
    "def remove_lowfreq_tag(col, train_df = train_df,test_df = test_df, N=3):\n",
    "    topN_address_list = train_df[col].value_counts()\n",
    "    #print(topN_address_list)\n",
    "    topN_address_list = topN_address_list[topN_address_list <= N]\n",
    "    topN_address_list = topN_address_list.index\n",
    "    remove_list = train_df.loc[train_df[col].isin(topN_address_list), col]\n",
    "    print('remove:',len(remove_list))\n",
    "    print('reserve',len(train_df) - len(remove_list))\n",
    "    remove_list = 9999998\n",
    "    test_df.loc[test_df[col].isin(topN_address_list), col] = 9999998"
   ]
  },
  {
   "cell_type": "code",
   "execution_count": 10,
   "metadata": {},
   "outputs": [],
   "source": [
    "def preprocess(df):\n",
    "    df['time_t'] = df.click_time.str[11:13] #+ df.click_time.str[14:16]\n",
    "    #df['time_t'] = df['time_t'].astype(datetime)"
   ]
  },
  {
   "cell_type": "code",
   "execution_count": 6,
   "metadata": {},
   "outputs": [],
   "source": [
    "for i in ['app','ip','device','os','channel']:\n",
    "    remove_unknown_tag(i)"
   ]
  },
  {
   "cell_type": "code",
   "execution_count": 7,
   "metadata": {},
   "outputs": [
    {
     "name": "stdout",
     "output_type": "stream",
     "text": [
      "remove: 218\n",
      "reserve 119782\n",
      "remove: 63329\n",
      "reserve 56671\n",
      "remove: 600\n",
      "reserve 119400\n",
      "remove: 125\n",
      "reserve 119875\n",
      "remove: 39\n",
      "reserve 119961\n"
     ]
    }
   ],
   "source": [
    "for i,j in zip(['app','ip','device','os','channel'],[5,4,4,5,5]):\n",
    "    remove_lowfreq_tag(i,N=j)"
   ]
  },
  {
   "cell_type": "code",
   "execution_count": 8,
   "metadata": {},
   "outputs": [],
   "source": [
    "def process_lable_encoder(col, train_df = train_df, test_df = test_df):\n",
    "    le = LabelEncoder()\n",
    "    le.fit(np.hstack([train_df[col], test_df[col]]))\n",
    "    train_df[col] = le.transform(train_df[col])\n",
    "    test_df[col] = le.transform(test_df[col])\n",
    "    \n",
    "coding_list = ['ip','app','device','os','channel','time_t']"
   ]
  },
  {
   "cell_type": "code",
   "execution_count": 11,
   "metadata": {
    "scrolled": false
   },
   "outputs": [
    {
     "name": "stdout",
     "output_type": "stream",
     "text": [
      "preprocessing done\n"
     ]
    }
   ],
   "source": [
    "preprocess(train_df)\n",
    "preprocess(test_df)\n",
    "print(\"preprocessing done\")"
   ]
  },
  {
   "cell_type": "code",
   "execution_count": 13,
   "metadata": {},
   "outputs": [
    {
     "name": "stdout",
     "output_type": "stream",
     "text": [
      "label encoding done\n"
     ]
    }
   ],
   "source": [
    "for i in coding_list:\n",
    "    process_lable_encoder(i)\n",
    "    \n",
    "print(\"label encoding done\")"
   ]
  },
  {
   "cell_type": "code",
   "execution_count": 35,
   "metadata": {},
   "outputs": [],
   "source": [
    "#train_df1 = train_df.drop(['click_time','attributed_time'],axis=1)\n",
    "test_df1 = test_df.drop(['click_time','click_id'],axis=1)"
   ]
  },
  {
   "cell_type": "code",
   "execution_count": 34,
   "metadata": {
    "scrolled": true
   },
   "outputs": [
    {
     "data": {
      "text/html": [
       "<div>\n",
       "<style scoped>\n",
       "    .dataframe tbody tr th:only-of-type {\n",
       "        vertical-align: middle;\n",
       "    }\n",
       "\n",
       "    .dataframe tbody tr th {\n",
       "        vertical-align: top;\n",
       "    }\n",
       "\n",
       "    .dataframe thead th {\n",
       "        text-align: right;\n",
       "    }\n",
       "</style>\n",
       "<table border=\"1\" class=\"dataframe\">\n",
       "  <thead>\n",
       "    <tr style=\"text-align: right;\">\n",
       "      <th></th>\n",
       "      <th>click_id</th>\n",
       "      <th>ip</th>\n",
       "      <th>app</th>\n",
       "      <th>device</th>\n",
       "      <th>os</th>\n",
       "      <th>channel</th>\n",
       "      <th>time_t</th>\n",
       "    </tr>\n",
       "  </thead>\n",
       "  <tbody>\n",
       "    <tr>\n",
       "      <th>0</th>\n",
       "      <td>0</td>\n",
       "      <td>46326</td>\n",
       "      <td>9</td>\n",
       "      <td>1</td>\n",
       "      <td>3</td>\n",
       "      <td>15</td>\n",
       "      <td>4</td>\n",
       "    </tr>\n",
       "    <tr>\n",
       "      <th>1</th>\n",
       "      <td>1</td>\n",
       "      <td>22229</td>\n",
       "      <td>9</td>\n",
       "      <td>1</td>\n",
       "      <td>3</td>\n",
       "      <td>149</td>\n",
       "      <td>4</td>\n",
       "    </tr>\n",
       "    <tr>\n",
       "      <th>2</th>\n",
       "      <td>2</td>\n",
       "      <td>13365</td>\n",
       "      <td>21</td>\n",
       "      <td>1</td>\n",
       "      <td>19</td>\n",
       "      <td>32</td>\n",
       "      <td>4</td>\n",
       "    </tr>\n",
       "    <tr>\n",
       "      <th>3</th>\n",
       "      <td>3</td>\n",
       "      <td>14485</td>\n",
       "      <td>15</td>\n",
       "      <td>1</td>\n",
       "      <td>13</td>\n",
       "      <td>18</td>\n",
       "      <td>4</td>\n",
       "    </tr>\n",
       "    <tr>\n",
       "      <th>4</th>\n",
       "      <td>4</td>\n",
       "      <td>46326</td>\n",
       "      <td>12</td>\n",
       "      <td>1</td>\n",
       "      <td>13</td>\n",
       "      <td>90</td>\n",
       "      <td>4</td>\n",
       "    </tr>\n",
       "  </tbody>\n",
       "</table>\n",
       "</div>"
      ],
      "text/plain": [
       "   click_id     ip  app  device  os  channel  time_t\n",
       "0         0  46326    9       1   3       15       4\n",
       "1         1  22229    9       1   3      149       4\n",
       "2         2  13365   21       1  19       32       4\n",
       "3         3  14485   15       1  13       18       4\n",
       "4         4  46326   12       1  13       90       4"
      ]
     },
     "execution_count": 34,
     "metadata": {},
     "output_type": "execute_result"
    }
   ],
   "source": [
    "train_df1.head()\n",
    "test_df1.head()"
   ]
  },
  {
   "cell_type": "code",
   "execution_count": 26,
   "metadata": {},
   "outputs": [],
   "source": [
    "df_train, df_test = train_test_split(train_df1, test_size = 0.25, random_state = 19)\n",
    "\n",
    "# train_df.is_attributed.sum()/train_df.shape[0]\n",
    "# test_df.is_attributed.sum()/test_df.shape[0]\n",
    "                                     \n",
    "train_y = df_train.is_attributed\n",
    "test_y = df_test.is_attributed\n",
    "\n",
    "train_x = df_train.drop(['is_attributed'], axis = 1)\n",
    "test_x = df_test.drop(['is_attributed'], axis = 1)\n",
    "\n",
    "train_x = np.array(train_x)\n",
    "test_x = np.array(test_x)\n",
    "\n",
    "train_y = np.array(train_y)\n",
    "test_y = np.array(test_y)"
   ]
  },
  {
   "cell_type": "code",
   "execution_count": 27,
   "metadata": {},
   "outputs": [
    {
     "name": "stdout",
     "output_type": "stream",
     "text": [
      "Train on 72000 samples, validate on 18000 samples\n",
      "Epoch 1/3\n",
      "72000/72000 [==============================] - 7s 95us/step - loss: 0.4804 - val_loss: 0.4527\n",
      "Epoch 2/3\n",
      "72000/72000 [==============================] - 5s 70us/step - loss: 0.4582 - val_loss: 0.4534\n",
      "Epoch 3/3\n",
      "72000/72000 [==============================] - 5s 69us/step - loss: 0.4558 - val_loss: 0.4532\n"
     ]
    }
   ],
   "source": [
    "adam = optimizers.adam(lr = 0.001, decay = 0.0000001)\n",
    "\n",
    "model = Sequential()\n",
    "model.add(Dense(48, input_dim=train_x.shape[1],kernel_initializer='normal',activation='relu'))\n",
    "model.add(Dropout(0.2))\n",
    "model.add(Dense(24,activation = \"tanh\"))\n",
    "model.add(Dropout(0.3))\n",
    "model.add(Dense(1))\n",
    "model.add(Activation(\"sigmoid\"))\n",
    "model.compile(loss=\"binary_crossentropy\",optimizer='adam')\n",
    "\n",
    "history = model.fit(train_x,train_y, validation_split=0.2, epochs=3, batch_size=64)"
   ]
  },
  {
   "cell_type": "code",
   "execution_count": 36,
   "metadata": {},
   "outputs": [],
   "source": [
    "predictions_NN_prob = model.predict(test_df1)\n",
    "predictions_NN_prob = predictions_NN_prob[:,0]"
   ]
  },
  {
   "cell_type": "code",
   "execution_count": 38,
   "metadata": {},
   "outputs": [],
   "source": [
    "test_df1['is_attributed'] = predictions_NN_prob\n",
    "df1 = test_df1\n",
    "df1 = df1.drop(['app','device','os','channel','time_t'],axis=1)\n",
    "df1['click_id'] = df1.index\n",
    "df1 = df1[['click_id','is_attributed']]"
   ]
  },
  {
   "cell_type": "code",
   "execution_count": 39,
   "metadata": {},
   "outputs": [],
   "source": [
    "df1.to_csv(\"NNwithoutembedding.csv\", index = False)"
   ]
  },
  {
   "cell_type": "code",
   "execution_count": null,
   "metadata": {},
   "outputs": [],
   "source": []
  }
 ],
 "metadata": {
  "kernelspec": {
   "display_name": "Python 3",
   "language": "python",
   "name": "python3"
  },
  "language_info": {
   "codemirror_mode": {
    "name": "ipython",
    "version": 3
   },
   "file_extension": ".py",
   "mimetype": "text/x-python",
   "name": "python",
   "nbconvert_exporter": "python",
   "pygments_lexer": "ipython3",
   "version": "3.6.4"
  }
 },
 "nbformat": 4,
 "nbformat_minor": 2
}
